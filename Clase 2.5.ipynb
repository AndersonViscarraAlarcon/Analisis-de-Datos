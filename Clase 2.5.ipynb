{
 "cells": [
  {
   "cell_type": "markdown",
   "id": "0912efa8-cc16-47f1-96ee-38c99a6167c8",
   "metadata": {},
   "source": [
    "# Area de un triangulo"
   ]
  },
  {
   "cell_type": "code",
   "execution_count": 2,
   "id": "b17946a1-a9cb-4428-9c65-6649b6ecd816",
   "metadata": {},
   "outputs": [],
   "source": [
    "def base_Triangulo(base, altura):\n",
    "    \"\"\"Calculo del area de un triangulo, con argumentos de Base y Altura\"\"\"\n",
    "    area = (base * altura ) / 2\n",
    "    return area"
   ]
  },
  {
   "cell_type": "code",
   "execution_count": 4,
   "id": "27740f2f-68c0-44a5-9ba3-be0600570c7c",
   "metadata": {},
   "outputs": [
    {
     "data": {
      "text/plain": [
       "7.5"
      ]
     },
     "execution_count": 4,
     "metadata": {},
     "output_type": "execute_result"
    }
   ],
   "source": [
    "base_Triangulo(3, 5)"
   ]
  },
  {
   "cell_type": "code",
   "execution_count": 10,
   "id": "3609fc2c-b21a-40e9-b64d-c88ef8fd3a62",
   "metadata": {},
   "outputs": [
    {
     "name": "stdout",
     "output_type": "stream",
     "text": [
      "Help on function base_Triangulo in module __main__:\n",
      "\n",
      "base_Triangulo(base, altura)\n",
      "\n"
     ]
    }
   ],
   "source": [
    "#Obtenemos la ayuda de la funcion\n",
    "help(base_Triangulo)"
   ]
  },
  {
   "cell_type": "markdown",
   "id": "cf036528-72fa-4228-a033-00b25fe34e8d",
   "metadata": {},
   "source": [
    "## Area del triangulo con funcion lambda"
   ]
  },
  {
   "cell_type": "code",
   "execution_count": 13,
   "id": "cd913047-1aec-4ccc-80e4-672a86884852",
   "metadata": {},
   "outputs": [],
   "source": [
    "area = lambda base, altura : (base*altura)/2"
   ]
  },
  {
   "cell_type": "code",
   "execution_count": 17,
   "id": "d2ce7c66-db34-4c8d-baeb-814ed95a5ce9",
   "metadata": {},
   "outputs": [
    {
     "data": {
      "text/plain": [
       "7.5"
      ]
     },
     "execution_count": 17,
     "metadata": {},
     "output_type": "execute_result"
    }
   ],
   "source": [
    "area(5, 3)"
   ]
  },
  {
   "cell_type": "markdown",
   "id": "290e008a-1286-4c01-bea3-669b91d92285",
   "metadata": {},
   "source": [
    "### Funcion Map"
   ]
  },
  {
   "cell_type": "code",
   "execution_count": 21,
   "id": "b836dfea-4c15-4ea8-968b-4a4472ac54ec",
   "metadata": {},
   "outputs": [],
   "source": [
    "lista = [2, 4, 6, 8]"
   ]
  },
  {
   "cell_type": "code",
   "execution_count": 35,
   "id": "d6a54afc-0b77-45bf-b54d-aa048978df3e",
   "metadata": {},
   "outputs": [],
   "source": [
    "lista_al_cuadrado = map(lambda x : x ** 2, lista)"
   ]
  },
  {
   "cell_type": "code",
   "execution_count": 27,
   "id": "9c2356ab-536d-4577-a1b1-f78edefb3e35",
   "metadata": {},
   "outputs": [
    {
     "name": "stdout",
     "output_type": "stream",
     "text": [
      "[4, 16, 36, 64]\n"
     ]
    }
   ],
   "source": [
    "print(list(lista_al_cuadrado))"
   ]
  },
  {
   "cell_type": "markdown",
   "id": "f383314f-cda7-4321-9365-7bbc38f3cfcc",
   "metadata": {},
   "source": [
    "### Dolares a euros"
   ]
  },
  {
   "cell_type": "code",
   "execution_count": 33,
   "id": "ab82731a-5b55-4ebd-b32e-4590803a65f3",
   "metadata": {},
   "outputs": [],
   "source": [
    "dolares = [10.82, 11.95, 14.49, 24.95]"
   ]
  },
  {
   "cell_type": "code",
   "execution_count": 41,
   "id": "1df4fd99-19da-46af-b7f8-21f586d25ab7",
   "metadata": {},
   "outputs": [],
   "source": [
    "euros = map(lambda x : round(x / 1.1, 1), dolares)"
   ]
  },
  {
   "cell_type": "code",
   "execution_count": 43,
   "id": "5f7cb3aa-c9ff-464f-8337-bb2d70142676",
   "metadata": {},
   "outputs": [
    {
     "name": "stdout",
     "output_type": "stream",
     "text": [
      "[9.8, 10.9, 13.2, 22.7]\n"
     ]
    }
   ],
   "source": [
    "print(list(euros))"
   ]
  },
  {
   "cell_type": "markdown",
   "id": "b17dbc50-c8b7-46cf-9bcf-16ee45998ae6",
   "metadata": {},
   "source": [
    "### Funcion ZIP para unir listas en diccionarios"
   ]
  },
  {
   "cell_type": "code",
   "execution_count": 48,
   "id": "2992f532-fcf9-45ab-9f4f-751ca0f1c3c8",
   "metadata": {},
   "outputs": [],
   "source": [
    "pais = [\"España\", \"México\", \"Venezuela\", \"Colombia\", \"Perú\", \"Argentina\"]\n",
    "poblacion = [47, 128, 32, 50, 33, 45]"
   ]
  },
  {
   "cell_type": "code",
   "execution_count": 60,
   "id": "17f6ab20-7a6d-4a87-9ca4-1c564d045691",
   "metadata": {},
   "outputs": [],
   "source": [
    "dic_paises = dict(zip(pais, poblacion))"
   ]
  },
  {
   "cell_type": "code",
   "execution_count": 62,
   "id": "0f8d0123-b150-4631-a3db-007b059d1dd7",
   "metadata": {},
   "outputs": [
    {
     "name": "stdout",
     "output_type": "stream",
     "text": [
      "{'España': 47, 'México': 128, 'Venezuela': 32, 'Colombia': 50, 'Perú': 33, 'Argentina': 45}\n"
     ]
    }
   ],
   "source": [
    "print(dic_paises)"
   ]
  },
  {
   "cell_type": "code",
   "execution_count": 64,
   "id": "c2c0ce7f-71e7-4796-b1b4-5df9fdf9b5dd",
   "metadata": {},
   "outputs": [
    {
     "data": {
      "text/plain": [
       "128"
      ]
     },
     "execution_count": 64,
     "metadata": {},
     "output_type": "execute_result"
    }
   ],
   "source": [
    "dic_paises[\"México\"]"
   ]
  },
  {
   "cell_type": "markdown",
   "id": "ef88166f-cca5-4a48-82a6-5b62222485c4",
   "metadata": {},
   "source": [
    "## Comprensión de listas"
   ]
  },
  {
   "cell_type": "code",
   "execution_count": 71,
   "id": "af4becf2-a745-422d-8c62-d70eca62b999",
   "metadata": {},
   "outputs": [],
   "source": [
    "lista = [3, 5, 7, 9]"
   ]
  },
  {
   "cell_type": "code",
   "execution_count": 116,
   "id": "f509b36b-7fff-4623-ac4e-9f9b520328aa",
   "metadata": {},
   "outputs": [],
   "source": [
    "lista_incrementada = [ num + 5 for num in lista ]"
   ]
  },
  {
   "cell_type": "code",
   "execution_count": 114,
   "id": "10f41e44-9452-4016-97d5-88d6ed7c5cd5",
   "metadata": {},
   "outputs": [
    {
     "name": "stdout",
     "output_type": "stream",
     "text": [
      "[3, 5, 7, 9]\n"
     ]
    }
   ],
   "source": [
    "print(lista_incrementada)"
   ]
  },
  {
   "cell_type": "markdown",
   "id": "08fa2946-8f71-4580-9250-ef1149ccdc79",
   "metadata": {},
   "source": [
    "### Comprension del listas con condiciones"
   ]
  },
  {
   "cell_type": "code",
   "execution_count": 122,
   "id": "ab3c16ea-8362-4787-82f6-a756290f5c23",
   "metadata": {},
   "outputs": [],
   "source": [
    "lista2 = [ 3, 6, 7, 2, 8 ]"
   ]
  },
  {
   "cell_type": "code",
   "execution_count": 124,
   "id": "f6a42624-eaeb-4033-a585-b18f3b780f7f",
   "metadata": {},
   "outputs": [],
   "source": [
    "lista_final = [ num ** 2 if num % 2 == 0 else num for num in lista2 ]"
   ]
  },
  {
   "cell_type": "code",
   "execution_count": 126,
   "id": "2081a596-4d41-4a01-9ff7-a2d3dd266aff",
   "metadata": {},
   "outputs": [
    {
     "name": "stdout",
     "output_type": "stream",
     "text": [
      "[3, 36, 7, 4, 64]\n"
     ]
    }
   ],
   "source": [
    "print(lista_final)"
   ]
  }
 ],
 "metadata": {
  "kernelspec": {
   "display_name": "Python 3 (ipykernel)",
   "language": "python",
   "name": "python3"
  },
  "language_info": {
   "codemirror_mode": {
    "name": "ipython",
    "version": 3
   },
   "file_extension": ".py",
   "mimetype": "text/x-python",
   "name": "python",
   "nbconvert_exporter": "python",
   "pygments_lexer": "ipython3",
   "version": "3.12.4"
  }
 },
 "nbformat": 4,
 "nbformat_minor": 5
}
