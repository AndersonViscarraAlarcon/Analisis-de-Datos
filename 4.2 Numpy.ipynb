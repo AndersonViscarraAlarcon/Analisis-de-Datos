{
 "cells": [
  {
   "cell_type": "code",
   "execution_count": 39,
   "id": "2e868483-f78b-4839-aca6-f1ea3f38fa0b",
   "metadata": {},
   "outputs": [],
   "source": [
    "# Importamos la libreria de numpy\n",
    "import numpy as np"
   ]
  },
  {
   "cell_type": "code",
   "execution_count": 7,
   "id": "b142e58e-94ee-4800-be23-7f363cc82d45",
   "metadata": {},
   "outputs": [],
   "source": [
    "#Generamos los array de base y altura de Numpy\n",
    "base_rectangulo   = np.array([5, 2, 4, 7, 8])\n",
    "altura_rectangulo = np.array([3, 4, 1, 4, 3])"
   ]
  },
  {
   "cell_type": "code",
   "execution_count": 37,
   "id": "edcf8b87-87c3-450e-b0e4-ec090a8b9c98",
   "metadata": {},
   "outputs": [],
   "source": [
    "#Calculo del area de un rectangulo\n",
    "area_rectangulo   = base_rectangulo * altura_rectangulo "
   ]
  },
  {
   "cell_type": "code",
   "execution_count": 41,
   "id": "9db77011-3e95-436a-9037-10b954477a8d",
   "metadata": {},
   "outputs": [
    {
     "data": {
      "text/plain": [
       "array([15,  8,  4, 28, 24])"
      ]
     },
     "execution_count": 41,
     "metadata": {},
     "output_type": "execute_result"
    }
   ],
   "source": [
    "#Presentamos los valores del area\n",
    "area_rectangulo"
   ]
  },
  {
   "cell_type": "code",
   "execution_count": 43,
   "id": "deefa812-6785-44b6-8d31-116361d784e7",
   "metadata": {},
   "outputs": [
    {
     "data": {
      "text/plain": [
       "array([15, 28, 24])"
      ]
     },
     "execution_count": 43,
     "metadata": {},
     "output_type": "execute_result"
    }
   ],
   "source": [
    "#Presentamos los rectangulos con area mayor a 10\n",
    "area_rectangulo[area_rectangulo > 10]"
   ]
  }
 ],
 "metadata": {
  "kernelspec": {
   "display_name": "Python 3 (ipykernel)",
   "language": "python",
   "name": "python3"
  },
  "language_info": {
   "codemirror_mode": {
    "name": "ipython",
    "version": 3
   },
   "file_extension": ".py",
   "mimetype": "text/x-python",
   "name": "python",
   "nbconvert_exporter": "python",
   "pygments_lexer": "ipython3",
   "version": "3.11.5"
  }
 },
 "nbformat": 4,
 "nbformat_minor": 5
}
