{
 "cells": [
  {
   "cell_type": "markdown",
   "id": "43dc683f-ccda-4ab0-a356-6f817120042c",
   "metadata": {},
   "source": [
    "Clase Uno"
   ]
  },
  {
   "cell_type": "code",
   "execution_count": 11,
   "id": "be30275d-0363-48ee-a2c9-41198b261651",
   "metadata": {},
   "outputs": [],
   "source": [
    "#Importamos la libreria pandas\n",
    "import pandas as pd\n",
    "#Importamos la libreria matplotlib\n",
    "import matplotlib.pyplot as plt"
   ]
  },
  {
   "cell_type": "markdown",
   "id": "2446077c-94ff-4bf0-9ce4-3a3ee492bc7e",
   "metadata": {},
   "source": [
    "# Carga y manipulación de datos"
   ]
  },
  {
   "cell_type": "code",
   "execution_count": 13,
   "id": "8032bc5a-af08-45e3-b037-0977d59edd63",
   "metadata": {},
   "outputs": [],
   "source": [
    "#Cargamos \n",
    "df = pd.read_csv(r\"C:\\Users\\aviscarra\\Documents\\Curso\\Python\\AnalisisDeDatos\\Recursos\\Datasets+Data+Science\\1.3\\Info_pais.csv\",encoding=\"ISO-8859-1\",delimiter=\";\")"
   ]
  },
  {
   "cell_type": "code",
   "execution_count": 15,
   "id": "2b3c6ef4-9c0a-4010-8d0d-953f5d859521",
   "metadata": {},
   "outputs": [
    {
     "data": {
      "text/html": [
       "<div>\n",
       "<style scoped>\n",
       "    .dataframe tbody tr th:only-of-type {\n",
       "        vertical-align: middle;\n",
       "    }\n",
       "\n",
       "    .dataframe tbody tr th {\n",
       "        vertical-align: top;\n",
       "    }\n",
       "\n",
       "    .dataframe thead th {\n",
       "        text-align: right;\n",
       "    }\n",
       "</style>\n",
       "<table border=\"1\" class=\"dataframe\">\n",
       "  <thead>\n",
       "    <tr style=\"text-align: right;\">\n",
       "      <th></th>\n",
       "      <th>País</th>\n",
       "      <th>Poblacion</th>\n",
       "      <th>Renta per capita</th>\n",
       "      <th>Esperanza de vida</th>\n",
       "    </tr>\n",
       "  </thead>\n",
       "  <tbody>\n",
       "    <tr>\n",
       "      <th>0</th>\n",
       "      <td>United States</td>\n",
       "      <td>325084756</td>\n",
       "      <td>59939</td>\n",
       "      <td>78,9</td>\n",
       "    </tr>\n",
       "    <tr>\n",
       "      <th>1</th>\n",
       "      <td>China</td>\n",
       "      <td>1421021791</td>\n",
       "      <td>8612</td>\n",
       "      <td>76,7</td>\n",
       "    </tr>\n",
       "    <tr>\n",
       "      <th>2</th>\n",
       "      <td>Japan</td>\n",
       "      <td>127502725</td>\n",
       "      <td>38214</td>\n",
       "      <td>84,5</td>\n",
       "    </tr>\n",
       "    <tr>\n",
       "      <th>3</th>\n",
       "      <td>Germany</td>\n",
       "      <td>82658409</td>\n",
       "      <td>44680</td>\n",
       "      <td>81,2</td>\n",
       "    </tr>\n",
       "    <tr>\n",
       "      <th>4</th>\n",
       "      <td>India</td>\n",
       "      <td>1338676785</td>\n",
       "      <td>1980</td>\n",
       "      <td>69,4</td>\n",
       "    </tr>\n",
       "    <tr>\n",
       "      <th>5</th>\n",
       "      <td>United Kingdom</td>\n",
       "      <td>66727461</td>\n",
       "      <td>39532</td>\n",
       "      <td>81,2</td>\n",
       "    </tr>\n",
       "    <tr>\n",
       "      <th>6</th>\n",
       "      <td>France</td>\n",
       "      <td>64842509</td>\n",
       "      <td>39827</td>\n",
       "      <td>82,5</td>\n",
       "    </tr>\n",
       "    <tr>\n",
       "      <th>7</th>\n",
       "      <td>Brazil</td>\n",
       "      <td>207833823</td>\n",
       "      <td>9881</td>\n",
       "      <td>75,7</td>\n",
       "    </tr>\n",
       "    <tr>\n",
       "      <th>8</th>\n",
       "      <td>Italy</td>\n",
       "      <td>60673701</td>\n",
       "      <td>32038</td>\n",
       "      <td>83,6</td>\n",
       "    </tr>\n",
       "    <tr>\n",
       "      <th>9</th>\n",
       "      <td>Canada</td>\n",
       "      <td>36732095</td>\n",
       "      <td>44841</td>\n",
       "      <td>82,3</td>\n",
       "    </tr>\n",
       "  </tbody>\n",
       "</table>\n",
       "</div>"
      ],
      "text/plain": [
       "             País   Poblacion  Renta per capita Esperanza de vida\n",
       "0   United States   325084756             59939              78,9\n",
       "1           China  1421021791              8612              76,7\n",
       "2           Japan   127502725             38214              84,5\n",
       "3         Germany    82658409             44680              81,2\n",
       "4           India  1338676785              1980              69,4\n",
       "5  United Kingdom    66727461             39532              81,2\n",
       "6          France    64842509             39827              82,5\n",
       "7          Brazil   207833823              9881              75,7\n",
       "8           Italy    60673701             32038              83,6\n",
       "9          Canada    36732095             44841              82,3"
      ]
     },
     "execution_count": 15,
     "metadata": {},
     "output_type": "execute_result"
    }
   ],
   "source": [
    "#Mostramos los 10 primeros registros\n",
    "df.head(10)"
   ]
  },
  {
   "cell_type": "code",
   "execution_count": 17,
   "id": "c59653bb-c007-48e9-ad2f-10a59e5964c5",
   "metadata": {},
   "outputs": [],
   "source": [
    "#Creamos otro Dataframe ordenado por la columna Esperanza de vida\n",
    "df_order = df.sort_values(\"Esperanza de vida\", ascending=True)"
   ]
  },
  {
   "cell_type": "code",
   "execution_count": 19,
   "id": "5d49bc45-e231-443b-bf3e-fe1ef7ed06ba",
   "metadata": {},
   "outputs": [
    {
     "data": {
      "text/html": [
       "<div>\n",
       "<style scoped>\n",
       "    .dataframe tbody tr th:only-of-type {\n",
       "        vertical-align: middle;\n",
       "    }\n",
       "\n",
       "    .dataframe tbody tr th {\n",
       "        vertical-align: top;\n",
       "    }\n",
       "\n",
       "    .dataframe thead th {\n",
       "        text-align: right;\n",
       "    }\n",
       "</style>\n",
       "<table border=\"1\" class=\"dataframe\">\n",
       "  <thead>\n",
       "    <tr style=\"text-align: right;\">\n",
       "      <th></th>\n",
       "      <th>País</th>\n",
       "      <th>Poblacion</th>\n",
       "      <th>Renta per capita</th>\n",
       "      <th>Esperanza de vida</th>\n",
       "    </tr>\n",
       "  </thead>\n",
       "  <tbody>\n",
       "    <tr>\n",
       "      <th>151</th>\n",
       "      <td>Central African Republic</td>\n",
       "      <td>4596023</td>\n",
       "      <td>424</td>\n",
       "      <td>52,8</td>\n",
       "    </tr>\n",
       "    <tr>\n",
       "      <th>149</th>\n",
       "      <td>Lesotho</td>\n",
       "      <td>2091534</td>\n",
       "      <td>1233</td>\n",
       "      <td>53,7</td>\n",
       "    </tr>\n",
       "    <tr>\n",
       "      <th>128</th>\n",
       "      <td>Chad</td>\n",
       "      <td>15016753</td>\n",
       "      <td>657</td>\n",
       "      <td>54</td>\n",
       "    </tr>\n",
       "    <tr>\n",
       "      <th>143</th>\n",
       "      <td>Sierra Leone</td>\n",
       "      <td>7488423</td>\n",
       "      <td>504</td>\n",
       "      <td>54,3</td>\n",
       "    </tr>\n",
       "    <tr>\n",
       "      <th>28</th>\n",
       "      <td>Nigeria</td>\n",
       "      <td>190873244</td>\n",
       "      <td>1969</td>\n",
       "      <td>54,3</td>\n",
       "    </tr>\n",
       "    <tr>\n",
       "      <th>89</th>\n",
       "      <td>Côte d'Ivoire</td>\n",
       "      <td>24437470</td>\n",
       "      <td>1529</td>\n",
       "      <td>57,4</td>\n",
       "    </tr>\n",
       "    <tr>\n",
       "      <th>158</th>\n",
       "      <td>Guinea-Bissau</td>\n",
       "      <td>1828145</td>\n",
       "      <td>737</td>\n",
       "      <td>58</td>\n",
       "    </tr>\n",
       "    <tr>\n",
       "      <th>120</th>\n",
       "      <td>Equatorial Guinea</td>\n",
       "      <td>1262002</td>\n",
       "      <td>9741</td>\n",
       "      <td>58,4</td>\n",
       "    </tr>\n",
       "    <tr>\n",
       "      <th>110</th>\n",
       "      <td>Mali</td>\n",
       "      <td>18512430</td>\n",
       "      <td>828</td>\n",
       "      <td>58,9</td>\n",
       "    </tr>\n",
       "    <tr>\n",
       "      <th>91</th>\n",
       "      <td>Cameroon</td>\n",
       "      <td>24566073</td>\n",
       "      <td>1422</td>\n",
       "      <td>58,9</td>\n",
       "    </tr>\n",
       "  </tbody>\n",
       "</table>\n",
       "</div>"
      ],
      "text/plain": [
       "                         País  Poblacion  Renta per capita Esperanza de vida\n",
       "151  Central African Republic    4596023               424              52,8\n",
       "149                   Lesotho    2091534              1233              53,7\n",
       "128                      Chad   15016753               657                54\n",
       "143              Sierra Leone    7488423               504              54,3\n",
       "28                    Nigeria  190873244              1969              54,3\n",
       "89              Côte d'Ivoire   24437470              1529              57,4\n",
       "158             Guinea-Bissau    1828145               737                58\n",
       "120         Equatorial Guinea    1262002              9741              58,4\n",
       "110                      Mali   18512430               828              58,9\n",
       "91                   Cameroon   24566073              1422              58,9"
      ]
     },
     "execution_count": 19,
     "metadata": {},
     "output_type": "execute_result"
    }
   ],
   "source": [
    "#Presentamos los 10 primeros registros\n",
    "df_order.head(10)"
   ]
  },
  {
   "cell_type": "markdown",
   "id": "dd9d8207-580c-4ade-abb6-2a093081f40d",
   "metadata": {},
   "source": [
    "# Visualización"
   ]
  },
  {
   "cell_type": "code",
   "execution_count": 21,
   "id": "5d9f8a08-f0f6-4b07-955c-bd0d1248c762",
   "metadata": {},
   "outputs": [
    {
     "data": {
      "text/plain": [
       "<matplotlib.collections.PathCollection at 0x188edd60ad0>"
      ]
     },
     "execution_count": 21,
     "metadata": {},
     "output_type": "execute_result"
    },
    {
     "data": {
      "image/png": "[encoded data removed]",
      "text/plain": [
       "<Figure size 640x480 with 1 Axes>"
      ]
     },
     "metadata": {},
     "output_type": "display_data"
    }
   ],
   "source": [
    "plt.scatter(df_order[\"Renta per capita\"], df_order[\"Esperanza de vida\"])"
   ]
  }
 ],
 "metadata": {
  "kernelspec": {
   "display_name": "Python 3 (ipykernel)",
   "language": "python",
   "name": "python3"
  },
  "language_info": {
   "codemirror_mode": {
    "name": "ipython",
    "version": 3
   },
   "file_extension": ".py",
   "mimetype": "text/x-python",
   "name": "python",
   "nbconvert_exporter": "python",
   "pygments_lexer": "ipython3",
   "version": "3.11.5"
  }
 },
 "nbformat": 4,
 "nbformat_minor": 5
}
