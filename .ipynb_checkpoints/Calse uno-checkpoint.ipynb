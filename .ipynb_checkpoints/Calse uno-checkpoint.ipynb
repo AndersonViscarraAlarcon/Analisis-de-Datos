{
 "cells": [
  {
   "cell_type": "markdown",
   "id": "43dc683f-ccda-4ab0-a356-6f817120042c",
   "metadata": {},
   "source": [
    "Clase Uno"
   ]
  },
  {
   "cell_type": "code",
   "execution_count": 4,
   "id": "be30275d-0363-48ee-a2c9-41198b261651",
   "metadata": {},
   "outputs": [
    {
     "data": {
      "text/plain": [
       "12"
      ]
     },
     "execution_count": 4,
     "metadata": {},
     "output_type": "execute_result"
    }
   ],
   "source": [
    "6+6"
   ]
  }
 ],
 "metadata": {
  "kernelspec": {
   "display_name": "Python 3 (ipykernel)",
   "language": "python",
   "name": "python3"
  },
  "language_info": {
   "codemirror_mode": {
    "name": "ipython",
    "version": 3
   },
   "file_extension": ".py",
   "mimetype": "text/x-python",
   "name": "python",
   "nbconvert_exporter": "python",
   "pygments_lexer": "ipython3",
   "version": "3.11.5"
  }
 },
 "nbformat": 4,
 "nbformat_minor": 5
}
